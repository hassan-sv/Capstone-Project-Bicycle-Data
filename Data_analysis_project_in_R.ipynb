{
  "metadata": {
    "kernelspec": {
      "name": "ir",
      "display_name": "R",
      "language": "R"
    },
    "language_info": {
      "name": "R",
      "codemirror_mode": "r",
      "pygments_lexer": "r",
      "mimetype": "text/x-r-source",
      "file_extension": ".r",
      "version": "4.4.0"
    },
    "kaggle": {
      "accelerator": "none",
      "dataSources": [
        {
          "sourceId": 10783355,
          "sourceType": "datasetVersion",
          "datasetId": 6668320
        }
      ],
      "dockerImageVersionId": 30749,
      "isInternetEnabled": true,
      "language": "r",
      "sourceType": "notebook",
      "isGpuEnabled": false
    },
    "colab": {
      "name": "Data analysis project in R",
      "provenance": [],
      "include_colab_link": true
    }
  },
  "nbformat_minor": 0,
  "nbformat": 4,
  "cells": [
    {
      "cell_type": "markdown",
      "metadata": {
        "id": "view-in-github",
        "colab_type": "text"
      },
      "source": [
        "<a href=\"https://colab.research.google.com/github/hassan-sv/Capstone-Project-Bicycle-Data/blob/main/Data_analysis_project_in_R.ipynb\" target=\"_parent\"><img src=\"https://colab.research.google.com/assets/colab-badge.svg\" alt=\"Open In Colab\"/></a>"
      ]
    },
    {
      "source": [
        "\n",
        "# IMPORTANT: RUN THIS CELL IN ORDER TO IMPORT YOUR KAGGLE DATA SOURCES\n",
        "# TO THE CORRECT LOCATION (/kaggle/input) IN YOUR NOTEBOOK,\n",
        "# THEN FEEL FREE TO DELETE THIS CELL.\n",
        "# NOTE: THIS NOTEBOOK ENVIRONMENT DIFFERS FROM KAGGLE'S R\n",
        "# ENVIRONMENT SO THERE MAY BE MISSING LIBRARIES USED BY YOUR\n",
        "# NOTEBOOK.\n",
        "\n",
        "DATA_SOURCE_MAPPING = 'google-analytics-capstone-project:https%3A%2F%2Fstorage.googleapis.com%2Fkaggle-data-sets%2F6668320%2F10783355%2Fbundle%2Farchive.zip%3FX-Goog-Algorithm%3DGOOG4-RSA-SHA256%26X-Goog-Credential%3Dgcp-kaggle-com%2540kaggle-161607.iam.gserviceaccount.com%252F20250416%252Fauto%252Fstorage%252Fgoog4_request%26X-Goog-Date%3D20250416T083530Z%26X-Goog-Expires%3D259200%26X-Goog-SignedHeaders%3Dhost%26X-Goog-Signature%3Da743b1b244b7223ddf2d704449f517f3c9a62de57bde7e2442130e4827a6f6c6a99e453fded152c95fac5b8c733febdc1269a0766fbf8b60a7bab01f15d56a41ac2a9e77640225d19324f223ce26f0920bcf58392b2beb73e4c3fb6c1b4072b57ad6038ad035b77322bc443762e1c6c12a20722ea29ce640ff4d6117818e7d81318c0045026f3bf5ce491183931c177aa025d9890c75bda26421c1f3e5b291c541e38ec89ca5e8f2d0e7cfbe6f3957193dac2e6a921286b592eeb875b5c46822fccba8291b47f163e2f22cb236b1caf78193ebb0a312b150e4f7121f0550bd5dce093302a87f061500a69dcd5e6dfea17531f2911416ba899d5738c586f0ef9f'\n",
        "\n",
        "KAGGLE_INPUT_PATH = '/kaggle/input'\n",
        "KAGGLE_WORKING_PATH = '/kaggle/working'\n",
        "\n",
        "system(paste0('sudo umount ', '/kaggle/input'))\n",
        "system(paste0('sudo rmdir ', '/kaggle/input'))\n",
        "system(paste0('sudo mkdir -p -- ', KAGGLE_INPUT_PATH), intern=TRUE)\n",
        "system(paste0('sudo chmod 777 ', KAGGLE_INPUT_PATH), intern=TRUE)\n",
        "system(\n",
        "  paste0('sudo ln -sfn ', KAGGLE_INPUT_PATH,' ',file.path('..', 'input')),\n",
        "  intern=TRUE)\n",
        "\n",
        "system(paste0('sudo mkdir -p -- ', KAGGLE_WORKING_PATH), intern=TRUE)\n",
        "system(paste0('sudo chmod 777 ', KAGGLE_WORKING_PATH), intern=TRUE)\n",
        "system(\n",
        "  paste0('sudo ln -sfn ', KAGGLE_WORKING_PATH, ' ', file.path('..', 'working')),\n",
        "  intern=TRUE)\n",
        "\n",
        "data_source_mappings = strsplit(DATA_SOURCE_MAPPING, ',')[[1]]\n",
        "for (data_source_mapping in data_source_mappings) {\n",
        "    path_and_url = strsplit(data_source_mapping, ':')\n",
        "    directory = path_and_url[[1]][1]\n",
        "    download_url = URLdecode(path_and_url[[1]][2])\n",
        "    filename = sub(\"\\\\?.+\", \"\", download_url)\n",
        "    destination_path = file.path(KAGGLE_INPUT_PATH, directory)\n",
        "    print(paste0('Downloading and uncompressing: ', directory))\n",
        "    if (endsWith(filename, '.zip')){\n",
        "      temp = tempfile(fileext = '.zip')\n",
        "      download.file(download_url, temp)\n",
        "      unzip(temp, overwrite = TRUE, exdir = destination_path)\n",
        "      unlink(temp)\n",
        "    }\n",
        "    else{\n",
        "      temp = tempfile(fileext = '.tar')\n",
        "      download.file(download_url, temp)\n",
        "      untar(temp, exdir = destination_path)\n",
        "      unlink(temp)\n",
        "    }\n",
        "    print(paste0('Downloaded and uncompressed: ', directory))\n",
        "}\n",
        "\n",
        "print(paste0('Data source import complete'))\n"
      ],
      "metadata": {
        "id": "ZmrIwS4qvTjO",
        "outputId": "01835689-8aa1-459f-a4f2-e3595cad4c77",
        "colab": {
          "base_uri": "https://localhost:8080/",
          "height": 69
        }
      },
      "cell_type": "code",
      "outputs": [
        {
          "output_type": "display_data",
          "data": {
            "text/html": [],
            "text/markdown": "",
            "text/latex": "",
            "text/plain": [
              "character(0)"
            ]
          },
          "metadata": {}
        },
        {
          "output_type": "display_data",
          "data": {
            "text/html": [],
            "text/markdown": "",
            "text/latex": "",
            "text/plain": [
              "character(0)"
            ]
          },
          "metadata": {}
        },
        {
          "output_type": "display_data",
          "data": {
            "text/html": [],
            "text/markdown": "",
            "text/latex": "",
            "text/plain": [
              "character(0)"
            ]
          },
          "metadata": {}
        },
        {
          "output_type": "display_data",
          "data": {
            "text/html": [],
            "text/markdown": "",
            "text/latex": "",
            "text/plain": [
              "character(0)"
            ]
          },
          "metadata": {}
        },
        {
          "output_type": "display_data",
          "data": {
            "text/html": [],
            "text/markdown": "",
            "text/latex": "",
            "text/plain": [
              "character(0)"
            ]
          },
          "metadata": {}
        },
        {
          "output_type": "display_data",
          "data": {
            "text/html": [],
            "text/markdown": "",
            "text/latex": "",
            "text/plain": [
              "character(0)"
            ]
          },
          "metadata": {}
        },
        {
          "output_type": "stream",
          "name": "stdout",
          "text": [
            "[1] \"Downloading and uncompressing: google-analytics-capstone-project\"\n",
            "[1] \"Downloaded and uncompressed: google-analytics-capstone-project\"\n",
            "[1] \"Data source import complete\"\n"
          ]
        }
      ],
      "execution_count": 1
    },
    {
      "cell_type": "markdown",
      "source": [
        "## Capstone bicyle data (Google Data Analytics)\n",
        "## About case study\n",
        "\n",
        "This case study explores the usage patterns of Cyclistic, a bike-share company in Chicago, to understand how casual riders and annual members differ in their bike usage.\n",
        "\n",
        "The goal is to provide actionable insights to convert casual riders into annual members, ultimately driving the company’s growth This project is part of the Google Data Analytics Professional Certificate on link\n",
        "\n",
        "## Step 1: Ask\n",
        "## Company Background\n",
        "\n",
        "Cyclistic launched its bike-share program in 2016, offering over 5,800 bikes and 600 docking stations across Chicago.\n",
        "\n",
        "The company stands out by providing inclusive options like reclining bikes, hand tricycles, and cargo bikes, catering to riders with disabilities or those who cannot use standard two-wheeled bikes.\n",
        "\n",
        "Cyclistic offers three pricing plans\n",
        "\n",
        "Single-ride passes\n",
        "\n",
        "Full-day passes Annual memberships\n",
        "\n",
        "Customers who purchase single-ride or full-day passes are classified as casual riders,\n",
        "\n",
        "while those with annual memberships are Cyclistic members.\n",
        "\n",
        "## Scenario\n",
        "\n",
        "The marketing team, led by Lily Moreno, aims to convert casual riders into annual members to ensure the company’s future success.\n",
        "\n",
        "To achieve this, the team needs to:\n",
        "\n",
        "Understand how casual riders and annual members use Cyclistic bikes differently. Develop data-driven marketing strategies to persuade casual\n",
        "\n",
        "riders to become members.\n",
        "\n",
        "## Key Questions\n",
        "\n",
        "How do annual members and casual riders use Cyclistic bikes differently? What insights can guide the design of a new marketing strategy?\n",
        "\n",
        "## Stakeholders\n",
        "\n",
        "Lily Moreno: Director of Marketing Cyclistic Executive Team\n",
        "Cyclistic Marketing Analytics Team\n",
        "\n",
        "## Step 2 : Prepare\n",
        "The dataset includes 12 months of bike-share data for 2024, sourced from Divvy Trip Data.\n",
        "\n",
        "The data is organized in CSV files, with each file representing one month of activity.\n",
        "# Tools Used\n",
        "\n",
        "Excel: For initial data inspection and validation & Query\n",
        "\n",
        "RStudio: For data cleaning,analysis and visualization\n",
        "\n",
        "Tableau : For data visualization\n",
        "# Data Cleaning Process\n",
        "Installed necessary R packages (tidyverse, skimr, janitor, ggplot2, lubridate, etc.).\n",
        "\n",
        "Imported and merged 12 monthly CSV files into a single data frame.\n",
        "\n",
        "Checked for duplicates, missing values, and inconsistencies.\n",
        "\n",
        "Added new columns using excel\n",
        "\n",
        "duration_trip: Calculated ride duration (ended_at - started_at).\n",
        "\n",
        "day : Extracted the day of the week from started_at.\n",
        "\n",
        "Saved the cleaned data as a new CSV file for analysis.\n"
      ],
      "metadata": {
        "id": "xmylxZXhvTjR"
      }
    },
    {
      "cell_type": "markdown",
      "source": [
        "## Install R Packages\n",
        "\n",
        "```{r install packages}\n",
        "#install.packages(\"tidyverse\")\n",
        "#install.packages(\"skimr\")\n",
        "#install.packages(\"janitor\")\n",
        "#install.packages('ggplot2')\n",
        "#install.packages(\"hms\")\n",
        "#install.packages(\"lubridate\")\n",
        "#install.packages(\"hms\")\n",
        "```\n"
      ],
      "metadata": {
        "id": "VzJp_HYXvTjV"
      }
    },
    {
      "cell_type": "markdown",
      "source": [
        "## Loading library\n",
        "\n",
        "```{r load packages}\n",
        "#library(tidyverse)\n",
        "#library(dplyr)\n",
        "#library(skimr)\n",
        "#library(janitor)\n",
        "#library(ggplot2)\n",
        "#library(lubridate)\n",
        "#library(hms)\n",
        "#library(readr)\n"
      ],
      "metadata": {
        "id": "gWdfnljcvTjX"
      }
    },
    {
      "cell_type": "markdown",
      "source": [
        "## Step 3: Process\n",
        "\n",
        "  Data Cleaning Highlights\n",
        "\n",
        "  Merged Data: Combined 12 monthly datasets into one dataframe with over 5 million rows\n",
        "  \n",
        "  Duplicates: No duplicates were found.\n",
        "  \n",
        "  Blank Columns : Many columns had blanks and nulls which were deleted\n",
        "  \n",
        "  Negative Durations: Identified and excluded rides with negative durations (likely due to   data entry errors).\n",
        "  \n",
        "  New Columns: Added duration_hours and day for further analysis\n",
        "  \n",
        "  combining all the months to a single data frame df_2024"
      ],
      "metadata": {
        "id": "puEQC-DxvTjX"
      }
    },
    {
      "cell_type": "markdown",
      "source": [
        "### Import all the cleaned dataframes which are formated as CSV\n",
        "\n",
        "```{r loading all files}\n",
        "# jan_df <- read.csv(\"C:/ProgramData/MySQL/MySQL Server 8.0/Uploads/df_jan.csv\")\n",
        "# mar_df <- read.csv(\"C:/ProgramData/MySQL/MySQL Server 8.0/Uploads/df_mar.csv\")\n",
        "# feb_df <- read.csv(\"C:/ProgramData/MySQL/MySQL Server 8.0/Uploads/df_feb.csv\")\n",
        "# apr_df <- read.csv(\"C:/ProgramData/MySQL/MySQL Server 8.0/Uploads/df_apr.csv\")\n",
        "# may_df <- read.csv(\"C:/ProgramData/MySQL/MySQL Server 8.0/Uploads/df_maj.csv\")\n",
        "# jun_df <- read.csv(\"C:/ProgramData/MySQL/MySQL Server 8.0/Uploads/df_jun.csv\")\n",
        "# jul_df <- read.csv(\"C:/ProgramData/MySQL/MySQL Server 8.0/Uploads/df_juli.csv\")\n",
        "# aug_df <- read.csv(\"C:/ProgramData/MySQL/MySQL Server 8.0/Uploads/df_aug.csv\")\n",
        "# sep_df <- read.csv(\"C:/ProgramData/MySQL/MySQL Server 8.0/Uploads/df_sep.csv\")\n",
        "# oct_df <- read.csv(\"C:/ProgramData/MySQL/MySQL Server 8.0/Uploads/df_okt.csv\")\n",
        "# nov_df <- read.csv(\"C:/ProgramData/MySQL/MySQL Server 8.0/Uploads/df_nov.csv\")\n",
        "# dec_df <- read.csv(\"C:/ProgramData/MySQL/MySQL Server 8.0/Uploads/df_dec.csv\")\n",
        "\n",
        "## Combine all the dataframes into one\n",
        "\n",
        "# df_2024 <- bind_rows(jan_df,feb_df,mar_df,apr_df,may_df,jun_df,jul_df,aug_df,sep_df,oct_df,nov_df,dec_df)\n"
      ],
      "metadata": {
        "id": "Qputs6-yvTjY"
      }
    },
    {
      "cell_type": "markdown",
      "source": [
        "# check if merge worked\n",
        "  head(df_2024)\n",
        "# check number of rows & Columns after merge\n",
        "  dim(df_2024)\n",
        "# check for duplicates\n",
        "  sum(duplicated(df_2024))"
      ],
      "metadata": {
        "id": "wWKeh25EvTjZ"
      }
    },
    {
      "cell_type": "markdown",
      "source": [
        "## Step 4: Analyze\n",
        "#### Key Insights\n",
        "\n",
        "#### Ride Duration:\n",
        "\n",
        "Average ride duration: ~11 minutes.\n",
        "\n",
        "Longest ride: 23 hours 46 minutes.\n",
        "\n",
        "Shortest ride: 0.039 seconds (likely a data error).\n",
        "  \n",
        "#### Popular Days:\n",
        "  \n",
        "Saturday had the highest number of rides,followed by Wednesday.\n",
        "\n",
        "Monday was the least popular day.\n",
        "\n",
        "#### Bike Types:\n",
        "\n",
        "Only electric bikes, electric scooters, and classic bikes were used in 2024\n",
        "\n",
        "None of the inclusive bike options (e.g., reclining bikes, hand tricycles) were rented.\n",
        "\n",
        "#### Rider Types:\n",
        "\n",
        "Casual riders accounted for over 2 million rides\n",
        "\n",
        "Members used bikes more frequently on weekdays eg wednesday, while casual riders dominated weekends."
      ],
      "metadata": {
        "id": "V_SPNvUivTjZ"
      }
    },
    {
      "cell_type": "markdown",
      "source": [
        "## Data Visualization\n",
        "## Plot 1 - Total riders 2024\n",
        "  \n",
        "The first plot includes the total number of riders in 2024 compared by casual\n",
        "bike riders and annual member\n",
        "\n",
        "Here is a link for a more detailed version  \n",
        "[Tableau LINK HERE](https://public.tableau.com/app/profile/taimur.hassan7268/viz/Total_Riders2024/TotalRiders)"
      ],
      "metadata": {
        "id": "UrSUOAcTvTja"
      }
    },
    {
      "cell_type": "markdown",
      "source": [
        "![totalriders.png](attachment:de4833d7-22dc-4ce1-b9c7-9539de4652d7.png)"
      ],
      "metadata": {
        "id": "M6hctX8AvTja"
      }
    },
    {
      "cell_type": "markdown",
      "source": [
        "## Plot 2 - Total riders per day 2024\n",
        "   \n",
        "The second plot shows the total number of rides by both casuals and members\n",
        "in a bar chart in descending order\n",
        "\n",
        "[TABLEAU LINK HERE](https://public.tableau.com/app/profile/taimur.hassan7268/viz/Total_ridersperday/Ridesperday)"
      ],
      "metadata": {
        "id": "YhuBDXT9vTjb"
      }
    },
    {
      "cell_type": "markdown",
      "source": [
        "![total_riders.png](attachment:d4711ad1-fec8-4d65-918c-8993db2993dc.png)"
      ],
      "metadata": {
        "id": "wsl2d2gAvTjc"
      }
    },
    {
      "cell_type": "markdown",
      "source": [
        "## Plot 3 - Casuals riders per day 2024\n",
        "  \n",
        "This plot will showcase the total number of casual riders per day in year 2024\n",
        "\n",
        "[TABLEAU LINK HERE](https://public.tableau.com/app/profile/taimur.hassan7268/viz/Casualsday_2024/Casuals2024)"
      ],
      "metadata": {
        "id": "0AaVh0YFvTjd"
      }
    },
    {
      "cell_type": "markdown",
      "source": [
        "![casual_riders.png](attachment:9f3ae3ac-55b7-4b1c-b8b9-d810195a131c.png)"
      ],
      "metadata": {
        "id": "gkUSnfXdvTjd"
      }
    },
    {
      "cell_type": "markdown",
      "source": [
        "## Plot 4 - Annual members riders per day\n",
        "  \n",
        "This plot shows the sum of annual members in year 2024\n",
        "\n",
        "[TABLEAU LINK HERE](https://public.tableau.com/app/profile/taimur.hassan7268/viz/Member_days2024/Members2024)"
      ],
      "metadata": {
        "id": "7AKJ6VLZvTjd"
      }
    },
    {
      "cell_type": "markdown",
      "source": [
        "![members_2024.png](attachment:8e6d2347-2506-4cfc-8780-4c78f38b8311.png)"
      ],
      "metadata": {
        "id": "HSHDR_lJvTje"
      }
    },
    {
      "cell_type": "markdown",
      "source": [
        "## Plot 5 - Bikes Types usage\n",
        "  \n",
        "This plot shows the different types of bikes used for rides taken during year 2024\n",
        "\n",
        "[TABLEAU LINK HERE](https://public.tableau.com/app/profile/taimur.hassan7268/viz/biketypesperday/Ridestypes)"
      ],
      "metadata": {
        "id": "ajaTpM2bvTje"
      }
    },
    {
      "cell_type": "markdown",
      "source": [
        "![bikes_c.png](attachment:89afe282-0da6-4b55-9ff8-54187a54ff02.png)"
      ],
      "metadata": {
        "id": "2FG8ZNprvTjf"
      }
    },
    {
      "cell_type": "markdown",
      "source": [
        "## Plot 6 - Top Stations\n",
        "  \n",
        "This top showcase the top station used by riders in year 2024\n",
        "\n",
        "[TABLEAU LINK HERE](https://public.tableau.com/app/profile/taimur.hassan7268/viz/TopStations_17395357710120/Top15Stations)"
      ],
      "metadata": {
        "id": "htb6D5FpvTjf"
      }
    },
    {
      "cell_type": "markdown",
      "source": [
        "![top.png](attachment:94590aad-fd01-4584-981f-606783ee1adf.png)"
      ],
      "metadata": {
        "id": "vPRXbWGwvTjf"
      }
    },
    {
      "cell_type": "markdown",
      "source": [
        "## Plot 7 - Dashboard\n",
        "  \n",
        "This plot shows a summary of the types of bikes used and which top stations were used during year 2024\n",
        "\n",
        "[TABLEAU LINK HERE](https://public.tableau.com/app/profile/taimur.hassan7268/viz/topstations_biketype/Dashboard2)"
      ],
      "metadata": {
        "id": "7LIFAx0tvTjg"
      }
    },
    {
      "cell_type": "markdown",
      "source": [
        "![dashboard2.png](attachment:0cb69919-2e37-472e-ad86-f4044de3f181.png)"
      ],
      "metadata": {
        "id": "zLAt5m40vTjg"
      }
    },
    {
      "cell_type": "markdown",
      "source": [
        "## Plot 8 - Dashboard 2\n",
        "  \n",
        "This plot compares the total number of annual and causal riders by days in year 2024 and\n",
        "showcases which days the riders prefered to ride\n",
        "\n",
        "[TABLEAU LINK HERE](https://public.tableau.com/app/profile/taimur.hassan7268/viz/Member_casuals_2024/Dashboard1)"
      ],
      "metadata": {
        "id": "G4AUp0IavTjg"
      }
    },
    {
      "cell_type": "markdown",
      "source": [
        "![member_casuals.png](attachment:94757289-d58f-41df-bf8a-4dca62516605.png)"
      ],
      "metadata": {
        "id": "T7PT3GZ5vTjg"
      }
    },
    {
      "cell_type": "markdown",
      "source": [
        "## Step 5: Share\n",
        "\n",
        "\n",
        "Share all the insights gained from the analysis to stake holders\n",
        "\n",
        "    \n",
        "\n",
        "## Deliverable\n",
        "\n",
        "A detailed RMarkdown notebook shared on Kaggle for public access\n",
        "Clear visualizations and key findings to support decision-making.\n",
        "\n",
        "## Step 6: Act\n",
        "\n",
        "Recommendations\n",
        "\n",
        "Promote Inclusive Bikes:\n",
        "\n",
        "Conduct surveys to understand why inclusive bikes (e.g., reclining bikes, hand tricycles) are underutilized.\n",
        "\n",
        "Offer discounts or promotions to encourage riders to try these options.\n",
        "\n",
        "Target Casual Riders:\n",
        "\n",
        "Introduce flexible membership plans (e.g., monthly subscriptions) to attract casual riders.\n",
        "\n",
        "Offer incentives, such as discounted annual memberships or bonus ride credits.\n",
        "\n",
        "Weekend Promotions:\n",
        "\n",
        "Launch weekend-specific promotions for casual riders at popular stations.\n",
        "\n",
        "Highlight the benefits of membership, such as cost savings and convenience.\n",
        "\n",
        "## Conclusion\n",
        "\n",
        "This analysis provides valuable insights into the differences between casual riders and annual members. By implementing targeted marketing strategies, Cyclistic can effectively convert casual riders into loyal members, driving long-term growth and success.\n",
        "Next Steps\n",
        "\n",
        "Share findings with the Cyclistic executive team for approval.\n",
        "\n",
        "Develop and test marketing campaigns based on the recommendations.\n",
        "\n",
        "Monitor the impact of new strategies and refine them as needed."
      ],
      "metadata": {
        "id": "WUHhWkWAvTjh"
      }
    }
  ]
}